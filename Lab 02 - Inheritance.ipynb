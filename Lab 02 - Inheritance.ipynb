{
 "cells": [
  {
   "cell_type": "markdown",
   "id": "59979aa2",
   "metadata": {},
   "source": [
    "# [Lab 02 - Inheritance](https://tulane.instructure.com/courses/2258105/assignments/14270904)\n",
    "- [Derived class (subclass)](#Derived-class-(subclass))\n",
    "- [Protected member](#Protected-member)\n",
    "- [Overriding member methods](#Overriding-member-methods)\n",
    "- [The Object class](#The-Object-class)\n",
    "\n",
    "\n",
    "- [Lab assignment hints](#Lab-assignment-hints)"
   ]
  },
  {
   "cell_type": "markdown",
   "id": "96a6253d",
   "metadata": {},
   "source": [
    "## Derived class (_subclass_)\n",
    "- derived from another class, called a **base class** (_superclass_)\n",
    "- <span style=\"color:brown\">inherit</span>s the properties (member variables and methods) of the base class\n",
    "```java\n",
    "class DerivedClass extends BaseClass { /*...*/ }\n",
    "```\n",
    "\n",
    "## Protected member\n",
    "\n",
    "| Access Specifier | Accessiblity |\n",
    "| :------------ | :---------- |\n",
    "| private       | self        |\n",
    "| no specifier  | self + classes in the same package |\n",
    "| **protected** | self + classes in the same package + **derived classes** |\n",
    "| public        | anyone      |"
   ]
  },
  {
   "cell_type": "code",
   "execution_count": 3,
   "id": "6dfc6609",
   "metadata": {},
   "outputs": [],
   "source": [
    "class BaseClass {\n",
    "    private String var1 = \"var1: base class private member field\";\n",
    "    protected String var2 = \"var2: base class protected member field\";\n",
    "    \n",
    "    public void printMemberFields() {\n",
    "        System.out.println(\"From superclass object:\");\n",
    "        System.out.println(var1);\n",
    "        System.out.println(var2);\n",
    "    }\n",
    "}\n",
    "\n",
    "class DerivedClass extends BaseClass {\n",
    "    private String var3 = \"var3: derived class private member field\";\n",
    "    \n",
    "    public void printMemberFields() {\n",
    "        System.out.println(\"\\nFrom subclass object:\");\n",
    "        //System.out.println(var1);\n",
    "        System.out.println(var2);\n",
    "        System.out.println(var3);\n",
    "    }\n",
    "}"
   ]
  },
  {
   "cell_type": "code",
   "execution_count": 4,
   "id": "b283fec4",
   "metadata": {},
   "outputs": [
    {
     "name": "stdout",
     "output_type": "stream",
     "text": [
      "From superclass object:\n",
      "var1: base class private member field\n",
      "var2: base class protected member field\n",
      "\n",
      "From subclass object:\n",
      "var2: base class protected member field\n",
      "var3: derived class private member field\n"
     ]
    }
   ],
   "source": [
    "new BaseClass().printMemberFields();\n",
    "\n",
    "new DerivedClass().printMemberFields();"
   ]
  },
  {
   "cell_type": "markdown",
   "id": "dd0536ac",
   "metadata": {},
   "source": [
    "## Overriding member methods\n",
    "- __*@Override*__ annotation\n",
    "  - the compiler verifies that an identical base class method exists\n",
    "\n",
    "- implicit variable __*super*__ (vs __*this*__)\n",
    "  - a reference variable used to access superclass's members (including constructors)"
   ]
  },
  {
   "cell_type": "code",
   "execution_count": 5,
   "id": "39a55480",
   "metadata": {},
   "outputs": [],
   "source": [
    "class BaseClass {\n",
    "    private String memberField; // private member field\n",
    "    public BaseClass(String memberField) { // constructor\n",
    "        this.memberField = memberField;\n",
    "    }\n",
    "    public void memberMethod() {\n",
    "        System.out.println(\"BaseClass private member field: \" + memberField);\n",
    "    }\n",
    "}\n",
    "\n",
    "class DerivedClass extends BaseClass {\n",
    "    public DerivedClass() {\n",
    "        super(\"initialized from derived class\"); // call BaseClass constructor\n",
    "    }\n",
    "    @Override\n",
    "    public void memberMethod() {\n",
    "        System.out.println(\"DerivedClass memberMethod called\");\n",
    "        super.memberMethod();\n",
    "    }\n",
    "}"
   ]
  },
  {
   "cell_type": "code",
   "execution_count": 6,
   "id": "6ce0259b",
   "metadata": {},
   "outputs": [
    {
     "name": "stdout",
     "output_type": "stream",
     "text": [
      "DerivedClass memberMethod called\n",
      "BaseClass private member field: initialized from derived class\n"
     ]
    }
   ],
   "source": [
    "new DerivedClass().memberMethod()"
   ]
  },
  {
   "cell_type": "markdown",
   "id": "1a66246a",
   "metadata": {},
   "source": [
    "## The Object class\n",
    "- built-in **_Object_ class**\n",
    "  - base class for all other classes\n",
    "- `toString` method\n",
    "  - returns a `String` representation of the object"
   ]
  },
  {
   "cell_type": "code",
   "execution_count": 7,
   "id": "a3ce13ce",
   "metadata": {},
   "outputs": [
    {
     "name": "stdout",
     "output_type": "stream",
     "text": [
      "REPL.$JShell$13B$DerivedClass@2d07093d\n"
     ]
    }
   ],
   "source": [
    "System.out.println(new DerivedClass());"
   ]
  },
  {
   "cell_type": "code",
   "execution_count": 8,
   "id": "373a3ba1",
   "metadata": {},
   "outputs": [],
   "source": [
    "class DerivedClass {\n",
    "    @Override\n",
    "    public String toString() {\n",
    "        return \"a DerivedClass instance\";\n",
    "    }\n",
    "}"
   ]
  },
  {
   "cell_type": "code",
   "execution_count": 9,
   "id": "b69bd0fa",
   "metadata": {},
   "outputs": [
    {
     "name": "stdout",
     "output_type": "stream",
     "text": [
      "a DerivedClass instance\n"
     ]
    }
   ],
   "source": [
    "System.out.println(new DerivedClass());"
   ]
  },
  {
   "cell_type": "markdown",
   "id": "f85e74fa",
   "metadata": {},
   "source": [
    "- `equals` method"
   ]
  },
  {
   "cell_type": "code",
   "execution_count": 10,
   "id": "f1c802ce",
   "metadata": {},
   "outputs": [
    {
     "name": "stdout",
     "output_type": "stream",
     "text": [
      "false\n",
      "true\n",
      "true\n"
     ]
    }
   ],
   "source": [
    "String str1 = \"string\";\n",
    "String str2 = new String(\"string\");\n",
    "String str3 = \"string\";\n",
    "\n",
    "System.out.println(str1 == str2); // == operator compares the references not the values\n",
    "System.out.println(str1.equals(str2));\n",
    "\n",
    "System.out.println(str1 == str3);"
   ]
  },
  {
   "cell_type": "markdown",
   "id": "42b6ebdb",
   "metadata": {},
   "source": [
    "## Lab assignment hints\n",
    "### 7.4 LAB: Bank accounts\n",
    "`BankAccount`\n",
    "- `toString`: use [String.format](https://docs.oracle.com/en/java/javase/19/docs/api/java.base/java/lang/String.html#format(java.lang.String,java.lang.Object...)) to make formatted strings\n",
    "  - The [syntax](https://docs.oracle.com/en/java/javase/19/docs/api/java.base/java/util/Formatter.html#syntax) of the format specifiers for general, character, and numeric types: <pre>%[<span style=\"color:red\">argument_index</span>&dollar;][<span style=\"color:orange\">flags</span>][<span style=\"color:green\">width</span>][.<span style=\"color:blue\">precision</span>]<span style=\"color:purple\">conversion</span></pre>\n",
    "  - E.g., <pre>String.format(\"π = %<span style=\"color:red\">1</span>&dollar;<span style=\"color:orange\">+</span><span style=\"color:green\">10</span>.<span style=\"color:blue\">4</span><span style=\"color:purple\">f</span>\", Math.PI)</pre>\n",
    "\n",
    "`CheckingAccount`\n",
    "- override `deposit` and `withdraw` to count transactions"
   ]
  },
  {
   "cell_type": "code",
   "execution_count": 11,
   "id": "b754cfca",
   "metadata": {},
   "outputs": [
    {
     "data": {
      "text/plain": [
       "π =    +3.1416"
      ]
     },
     "execution_count": 11,
     "metadata": {},
     "output_type": "execute_result"
    }
   ],
   "source": [
    "String.format(\"π = %1$+10.4f\", Math.PI);"
   ]
  },
  {
   "cell_type": "code",
   "execution_count": 12,
   "id": "3f4d459c",
   "metadata": {},
   "outputs": [
    {
     "name": "stdout",
     "output_type": "stream",
     "text": [
      "a string, 5, 4.2592\n"
     ]
    }
   ],
   "source": [
    "String param1 = \"a string\";\n",
    "int param2 = 5;\n",
    "double param3 = 4.25915;\n",
    "\n",
    "// %s : string\n",
    "// %d : decimal integer\n",
    "// %f : floating point decimal\n",
    "String formatted = String.format(\"%s, %d, %.4f\", param1, param2, param3);\n",
    "System.out.println(formatted);"
   ]
  },
  {
   "cell_type": "code",
   "execution_count": null,
   "id": "af575ab9",
   "metadata": {},
   "outputs": [],
   "source": []
  }
 ],
 "metadata": {
  "kernelspec": {
   "display_name": "Java",
   "language": "java",
   "name": "java"
  },
  "language_info": {
   "codemirror_mode": "java",
   "file_extension": ".jshell",
   "mimetype": "text/x-java-source",
   "name": "Java",
   "pygments_lexer": "java",
   "version": "17.0.5+8"
  }
 },
 "nbformat": 4,
 "nbformat_minor": 5
}
