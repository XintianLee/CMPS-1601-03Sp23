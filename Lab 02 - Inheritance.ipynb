{
 "cells": [
  {
   "cell_type": "markdown",
   "id": "59979aa2",
   "metadata": {},
   "source": [
    "# [Lab 02 - Inheritance](https://tulane.instructure.com/courses/2258105/assignments/14270904)\n",
    "- [Derived class (subclass)](#Derived-class-(subclass))\n",
    "- [Protected member](#Protected-member)\n",
    "- [Overriding member methods](#Overriding-member-methods)\n",
    "- [The Object class](#The-Object-class)"
   ]
  },
  {
   "cell_type": "markdown",
   "id": "96a6253d",
   "metadata": {},
   "source": [
    "## Derived class (_subclass_)\n",
    "- derived from another class, called a **base class** (_superclass_)\n",
    "- <span style=\"color:brown\">inherit</span>s the properties (member variables and methods) of the base class\n",
    "```java\n",
    "class DerivedClass extends BaseClass { /*...*/ }\n",
    "```\n",
    "\n",
    "## Protected member\n",
    "\n",
    "| Access Specifier | Accessiblity |\n",
    "| :------------ | :---------- |\n",
    "| private       | self        |\n",
    "| no specifier  | self + classes in the same package |\n",
    "| **protected** | self + classes in the same package + **derived classes** |\n",
    "| public        | anyone      |"
   ]
  },
  {
   "cell_type": "code",
   "execution_count": 1,
   "id": "6dfc6609",
   "metadata": {},
   "outputs": [],
   "source": [
    "class BaseClass {\n",
    "    private String var1 = \"var1: base class private member field\";\n",
    "    protected String var2 = \"var2: base class protected member field\";\n",
    "    \n",
    "    public void printMemberFields() {\n",
    "        System.out.println(\"From superclass object:\");\n",
    "        System.out.println(var1);\n",
    "        System.out.println(var2);\n",
    "    }\n",
    "}\n",
    "\n",
    "class DerivedClass extends BaseClass {\n",
    "    private String var3 = \"var3: derived class private member field\";\n",
    "    \n",
    "    public void printMemberFields() {\n",
    "        System.out.println(\"\\nFrom subclass object:\");\n",
    "        //System.out.println(var1);\n",
    "        System.out.println(var2);\n",
    "        System.out.println(var3);\n",
    "    }\n",
    "}"
   ]
  },
  {
   "cell_type": "code",
   "execution_count": 2,
   "id": "b283fec4",
   "metadata": {},
   "outputs": [
    {
     "name": "stdout",
     "output_type": "stream",
     "text": [
      "From superclass object:\n",
      "var1: base class private member field\n",
      "var2: base class protected member field\n",
      "\n",
      "From subclass object:\n",
      "var2: base class protected member field\n",
      "var3: derived class private member field\n"
     ]
    }
   ],
   "source": [
    "new BaseClass().printMemberFields();\n",
    "\n",
    "new DerivedClass().printMemberFields();"
   ]
  },
  {
   "cell_type": "markdown",
   "id": "dd0536ac",
   "metadata": {},
   "source": [
    "## Overriding member methods\n",
    "- __*@Override*__ annotation\n",
    "  - the compiler verifies that an identical base class method exists\n",
    "\n",
    "- implicit variable __*super*__ (vs __*this*__)\n",
    "  - a reference variable used to access superclass's members"
   ]
  },
  {
   "cell_type": "code",
   "execution_count": 3,
   "id": "39a55480",
   "metadata": {},
   "outputs": [],
   "source": [
    "class BaseClass {\n",
    "    public void memberMethod() {\n",
    "        System.out.println(\"BaseClass memberMethod called\");\n",
    "    }\n",
    "}\n",
    "\n",
    "class DerivedClass extends BaseClass {\n",
    "    @Override\n",
    "    public void memberMethod() {\n",
    "        System.out.println(\"DerivedClass memberMethod called\");\n",
    "        super.memberMethod();\n",
    "    }\n",
    "}"
   ]
  },
  {
   "cell_type": "code",
   "execution_count": 4,
   "id": "6ce0259b",
   "metadata": {},
   "outputs": [
    {
     "name": "stdout",
     "output_type": "stream",
     "text": [
      "DerivedClass memberMethod called\n",
      "BaseClass memberMethod called\n"
     ]
    }
   ],
   "source": [
    "new DerivedClass().memberMethod()"
   ]
  },
  {
   "cell_type": "markdown",
   "id": "1a66246a",
   "metadata": {},
   "source": [
    "## The Object class\n",
    "- built-in **_Object_ class**\n",
    "  - base class for all other classes\n",
    "- `toString` method\n",
    "  - returns a `String` representation of the object"
   ]
  },
  {
   "cell_type": "code",
   "execution_count": 5,
   "id": "a3ce13ce",
   "metadata": {},
   "outputs": [
    {
     "name": "stdout",
     "output_type": "stream",
     "text": [
      "REPL.$JShell$12C$BaseClass@468ef40d\n"
     ]
    }
   ],
   "source": [
    "System.out.println(new BaseClass());"
   ]
  },
  {
   "cell_type": "code",
   "execution_count": 6,
   "id": "373a3ba1",
   "metadata": {},
   "outputs": [],
   "source": [
    "class BaseClass {\n",
    "    @Override\n",
    "    public String toString() {\n",
    "        return \"a BaseClass instance\";\n",
    "    }\n",
    "}"
   ]
  },
  {
   "cell_type": "code",
   "execution_count": 7,
   "id": "b69bd0fa",
   "metadata": {},
   "outputs": [
    {
     "name": "stdout",
     "output_type": "stream",
     "text": [
      "a BaseClass instance\n"
     ]
    }
   ],
   "source": [
    "System.out.println(new BaseClass());"
   ]
  },
  {
   "cell_type": "markdown",
   "id": "f85e74fa",
   "metadata": {},
   "source": [
    "- `equals` method"
   ]
  },
  {
   "cell_type": "code",
   "execution_count": 8,
   "id": "f1c802ce",
   "metadata": {},
   "outputs": [
    {
     "name": "stdout",
     "output_type": "stream",
     "text": [
      "false\n",
      "true\n",
      "true\n"
     ]
    }
   ],
   "source": [
    "String str1 = \"string\";\n",
    "String str2 = new String(\"string\");\n",
    "String str3 = \"string\";\n",
    "\n",
    "System.out.println(str1 == str2); // == operator compares the references not the values\n",
    "System.out.println(str1.equals(str2));\n",
    "\n",
    "System.out.println(str1 == str3);"
   ]
  },
  {
   "cell_type": "code",
   "execution_count": null,
   "id": "26951bbe",
   "metadata": {},
   "outputs": [],
   "source": []
  }
 ],
 "metadata": {
  "kernelspec": {
   "display_name": "Java",
   "language": "java",
   "name": "java"
  },
  "language_info": {
   "codemirror_mode": "java",
   "file_extension": ".jshell",
   "mimetype": "text/x-java-source",
   "name": "Java",
   "pygments_lexer": "java",
   "version": "17.0.5+8"
  }
 },
 "nbformat": 4,
 "nbformat_minor": 5
}
