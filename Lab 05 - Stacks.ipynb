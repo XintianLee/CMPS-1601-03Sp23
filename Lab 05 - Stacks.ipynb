{
 "cells": [
  {
   "cell_type": "markdown",
   "id": "cf7990c1",
   "metadata": {},
   "source": [
    "# [Lab 05 - Stacks](https://tulane.instructure.com/courses/2258105/assignments/14270907)\n",
    "\n",
    "- [Input/Output](#Input/Output)\n",
    "  - [Output streams](#Output-streams)\n",
    "  - [Input streams](#Input-streams)\n",
    "- [Data Structures](#Data-Structures)\n",
    "  - [Array vs Linked List](#Array-vs-Linked-List)\n",
    "  - [Stack](#Stack)\n",
    "- [Lab assignment hints](#Lab-assignment-hints)"
   ]
  },
  {
   "cell_type": "markdown",
   "id": "0b735b24-1d2d-4ece-a329-171ecb7388cf",
   "metadata": {},
   "source": [
    "## Input/Output\n",
    "### Output streams\n",
    "- java.io.**OutputStream** : *abstract* class for writing <u>bytes</u>\n",
    "  - java.io.FilterOutputStream\n",
    "    - java.io.**PrintStream** : able to print representations of various data values conveniently (e.g., __*System.out*__)\n",
    "\n",
    "#### Create a String using stream\n",
    "- java.io.Writer\n",
    "  - java.io.**StringWriter** : a character stream\n",
    "  - java.io.**PrintWriter** : prints formatted representations of objects to a text-output stream."
   ]
  },
  {
   "cell_type": "code",
   "execution_count": 1,
   "id": "7c9170d0-d8c3-4949-aa23-91b5651ab277",
   "metadata": {},
   "outputs": [
    {
     "name": "stdout",
     "output_type": "stream",
     "text": [
      "001 2.35 stream\n"
     ]
    }
   ],
   "source": [
    "StringWriter charStream = new StringWriter();\n",
    "PrintWriter sprintWriter = new PrintWriter(charStream);\n",
    "\n",
    "sprintWriter.printf(\"%03d %.2f stream\", 1, 2.345); // write to the character stream\n",
    "\n",
    "String resultStr = charStream.toString(); // get the buffer content as a String\n",
    "System.out.println(resultStr);"
   ]
  },
  {
   "cell_type": "markdown",
   "id": "1e3200e4-faed-46af-9f84-07c5f280a68a",
   "metadata": {},
   "source": [
    "#### File output\n",
    "- java.io.OutputStream\n",
    "  - java.io.**FileOutputStream** : writes <u>bytes</u> to a `File` or to a `FileDescriptor`"
   ]
  },
  {
   "cell_type": "code",
   "execution_count": 2,
   "id": "b7682e73-ff8f-40d4-8f0a-7bd0c072b542",
   "metadata": {},
   "outputs": [],
   "source": [
    "try {\n",
    "    PrintWriter fprintWriter = new PrintWriter(\"text.txt\"); // This is equivalent to:\n",
    "    // FileOutputStream foutStream = new FileOutputStream(\"text.txt\");\n",
    "    // PrintWriter fprintWriter = new PrintWriter(foutStream);\n",
    "    \n",
    "    fprintWriter.println(resultStr); // print to the file\n",
    "    \n",
    "    fprintWriter.close(); // close the stream to release any system resources associated with it\n",
    "} catch(FileNotFoundException e) {\n",
    "    // print into ...\n",
    "} catch(IOException e) {\n",
    "    // print into ...\n",
    "}"
   ]
  },
  {
   "cell_type": "markdown",
   "id": "bf861a8b-8fde-4920-a77b-b5a790e2d1ea",
   "metadata": {},
   "source": [
    "### Input streams\n",
    "- java.io.**InputStream** : *abstract* class for reading <u>bytes</u> (e.g., __*System.in*__)\n",
    "\n",
    "#### Read from a String\n",
    "- java.util.**Scanner**"
   ]
  },
  {
   "cell_type": "code",
   "execution_count": 3,
   "id": "438f1644-edf6-4eed-8756-16c8c8713cf8",
   "metadata": {},
   "outputs": [
    {
     "name": "stdout",
     "output_type": "stream",
     "text": [
      "1\n",
      "2.35\n",
      "stream\n"
     ]
    }
   ],
   "source": [
    "Scanner strScanner = new Scanner(resultStr);\n",
    "\n",
    "System.out.println(strScanner.nextInt());\n",
    "System.out.println(strScanner.nextDouble());\n",
    "System.out.println(strScanner.next());"
   ]
  },
  {
   "cell_type": "markdown",
   "id": "42e65d16-deb1-48af-ab88-e79b573b305a",
   "metadata": {},
   "source": [
    "#### File input\n",
    "- java.io.InputStream\n",
    "  - java.io.**FileInputStream** : obtains input <u>bytes</u> from a file"
   ]
  },
  {
   "cell_type": "code",
   "execution_count": 4,
   "id": "1678429b-f277-49b2-891d-fc7f651c1907",
   "metadata": {},
   "outputs": [
    {
     "name": "stdout",
     "output_type": "stream",
     "text": [
      "001\n",
      "2.35\n",
      "stream\n"
     ]
    }
   ],
   "source": [
    "try {\n",
    "    Scanner fileScanner = new Scanner(new FileInputStream(\"text.txt\"));\n",
    "    \n",
    "    while (fileScanner.hasNext())\n",
    "        System.out.println(fileScanner.next());\n",
    "    \n",
    "    fileScanner.close();\n",
    "} catch(FileNotFoundException e) {\n",
    "    // print into ...\n",
    "}"
   ]
  },
  {
   "cell_type": "code",
   "execution_count": null,
   "id": "07c873e9-9eeb-47ab-934f-556544ebf621",
   "metadata": {},
   "outputs": [],
   "source": []
  },
  {
   "cell_type": "markdown",
   "id": "22c9a3c3-c8cd-4601-bd60-12a081ee93e2",
   "metadata": {},
   "source": [
    "## Data Structures\n",
    "### Array vs Linked List\n",
    "- **_Array_**: stores an ordered list of elements (usually in a contiguous block of memory), where each element is directly accessible by a <u>positional index</u>.\n",
    "  - efficient for accessing elements (at any position)\n",
    "  - insertion/deletion operations require shifting all the subsequent elements to new positions in memory\n",
    "- **_Linked list_**: stores an ordered list of elements in <u>nodes</u>, where each node stores data and has a _pointer_ to the next node.\n",
    "  - must traverse the list starting from the head node to access a specific element\n",
    "  - efficient for insetion and deletion operations, especially when compared to arrays\n",
    "\n",
    "> The size of an array is typically fixed at initialization. We use dynamic data structures (e.g., [vector](https://cplusplus.com/reference/vector/vector/) in C++ and [ArrayList](https://docs.oracle.com/en/java/javase/19/docs/api/java.base/java/util/ArrayList.html) in Java) when we want the size to change as needed, and arrays are often used as the underlying data structures to implement them.\n",
    "\n",
    "### Stack\n",
    "**_Stacks_** are a type of container, specifically designed to operate in a **_LIFO_** context (**last-in first-out**), where elements are inserted and extracted only from one end of the container.\n",
    "\n",
    "- [Stack](https://docs.oracle.com/en/java/javase/19/docs/api/java.base/java/util/Stack.html) in Java\n",
    "- [stack](https://cplusplus.com/reference/stack/stack/) in C++"
   ]
  },
  {
   "cell_type": "code",
   "execution_count": 5,
   "id": "b19431df-d6d8-4293-94d5-68019a8db769",
   "metadata": {},
   "outputs": [
    {
     "name": "stdout",
     "output_type": "stream",
     "text": [
      "Stack size: 3\n",
      "Element at peek: 3\n",
      "Element poped: 3\n",
      "Element poped: 2\n",
      "Element poped: 1\n"
     ]
    }
   ],
   "source": [
    "Stack<Integer> stack = new Stack<>();\n",
    "\n",
    "// Common operations:\n",
    "\n",
    "// Push\n",
    "stack.push(1); // 1 <-\n",
    "stack.push(2); // 1, 2 <-\n",
    "stack.push(3); // 1, 2, 3 <-\n",
    "\n",
    "// Get size\n",
    "System.out.println(\"Stack size: \" + stack.size());\n",
    "\n",
    "// Peek\n",
    "System.out.println(\"Element at peek: \" + stack.peek());\n",
    "\n",
    "// Is empty\n",
    "while (!stack.empty()) // while the stack is not empty\n",
    "// Pop\n",
    "    System.out.println(\"Element poped: \" + stack.pop());"
   ]
  },
  {
   "cell_type": "markdown",
   "id": "68193109",
   "metadata": {},
   "source": [
    "## Lab assignment hints\n",
    "### 19.1 LAB: Mismatched Brackets Checker\n",
    "`readInFile`\n",
    "- See [File input](#File-input)\n",
    "\n",
    "`containsMismatchedBrackets`\n",
    "- See this [draft flowchart](https://wavetulane-my.sharepoint.com/:u:/g/personal/xli71_tulane_edu/EbSxmJiA9FhHon7neqeYunQBiuKBLiSlmW0FLqaa731MuA?e=2Y6ipj) for reference\n",
    "- Use single quotes around a character:\n",
    "  - E.g., `'('` is treated as a `Character` while `\"(\"` is a `String`."
   ]
  },
  {
   "cell_type": "code",
   "execution_count": null,
   "id": "d3b584e3",
   "metadata": {},
   "outputs": [],
   "source": []
  }
 ],
 "metadata": {
  "kernelspec": {
   "display_name": "Java",
   "language": "java",
   "name": "java"
  },
  "language_info": {
   "codemirror_mode": "java",
   "file_extension": ".jshell",
   "mimetype": "text/x-java-source",
   "name": "Java",
   "pygments_lexer": "java",
   "version": "19.0.2+7"
  }
 },
 "nbformat": 4,
 "nbformat_minor": 5
}
