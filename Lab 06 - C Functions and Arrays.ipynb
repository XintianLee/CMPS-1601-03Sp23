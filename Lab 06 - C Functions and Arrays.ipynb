{
 "cells": [
  {
   "cell_type": "markdown",
   "id": "67a7639a",
   "metadata": {},
   "source": [
    "# [Lab 06 - C Functions and Arrays](https://tulane.instructure.com/courses/2258105/assignments/14270908)\n",
    "\n",
    "- [Basic I/O](#Basic-I/O)\n",
    "- [C String](#C-String)\n",
    "- [Lab assignment hints](#Lab-assignment-hints)"
   ]
  },
  {
   "cell_type": "markdown",
   "id": "91044123",
   "metadata": {},
   "source": [
    "Compared to Java, C is a **procedural-oriented** programming language and therefore does not have the concept of \"class\".  \n",
    "Based on what we've learned so far, the syntax of C is very similar to that of Java."
   ]
  },
  {
   "cell_type": "markdown",
   "id": "f9f8b295",
   "metadata": {},
   "source": [
    "## Basic I/O\n",
    "### [printf & scanf](https://learn.zybooks.com/zybook/TULANECMPS1600Spring2023/chapter/33/section/19)\n",
    "- [**printf**](https://cplusplus.com/reference/cstdio/printf/) Writes a formatted C string to the standard output (stdout)"
   ]
  },
  {
   "cell_type": "code",
   "execution_count": 1,
   "id": "3a328c67",
   "metadata": {},
   "outputs": [
    {
     "name": "stdout",
     "output_type": "stream",
     "text": [
      "Characters: a A \n",
      "Decimals: 1977 650000\n",
      "Preceding with blanks:       1977 \n",
      "Preceding with zeros: 0000001977 \n",
      "Some different radices: 100 64 144 0x64 0144 \n",
      "floats: 3.14 +3e+00 3.141600E+00 \n",
      "Width trick:    10 \n",
      "A string \n"
     ]
    }
   ],
   "source": [
    "#include <stdio.h> // the standard library of IO\n",
    "\n",
    "int main() {\n",
    "    printf (\"Characters: %c %c \\n\", 'a', 65); // use '\\n' to add a new line at the end\n",
    "    printf (\"Decimals: %d %ld\\n\", 1977, 650000L);\n",
    "    printf (\"Preceding with blanks: %10d \\n\", 1977);\n",
    "    printf (\"Preceding with zeros: %010d \\n\", 1977);\n",
    "    printf (\"Some different radices: %d %x %o %#x %#o \\n\", 100, 100, 100, 100, 100);\n",
    "    printf (\"floats: %4.2f %+.0e %E \\n\", 3.1416, 3.1416, 3.1416);\n",
    "    printf (\"Width trick: %*d \\n\", 5, 10);\n",
    "    printf (\"%s \\n\", \"A string\");\n",
    "    \n",
    "    return 0; // exit status code, 0 means success\n",
    "}"
   ]
  },
  {
   "cell_type": "markdown",
   "id": "36643f97",
   "metadata": {},
   "source": [
    "- [**scanf**](https://cplusplus.com/reference/cstdio/scanf/) Reads data from standard input (stdin) and stores them according to the format string and the additional arguments."
   ]
  },
  {
   "cell_type": "code",
   "execution_count": 2,
   "id": "c7358b06",
   "metadata": {},
   "outputs": [
    {
     "name": "stdout",
     "output_type": "stream",
     "text": [
      "ff 34\n",
      "num1: +255\n",
      "num2: +34\n",
      "49\n",
      "char: '1'\n"
     ]
    }
   ],
   "source": [
    "#include <stdio.h>\n",
    "\n",
    "int main() {\n",
    "    int num1, num2;\n",
    "    \n",
    "    scanf(\"%x %d\", &num1, &num2); // note the '&' preceding the variable\n",
    "    printf(\"num1: %+d\\n\", num1);\n",
    "    printf(\"num2: %+d\\n\", num2);\n",
    "    \n",
    "    scanf(\"%d\", &num1);\n",
    "    printf(\"char: '%c'\\n\", num1);\n",
    "    return 0;\n",
    "}"
   ]
  },
  {
   "cell_type": "markdown",
   "id": "938c1b1c",
   "metadata": {},
   "source": [
    "## C String\n",
    "C does not have a built-in string type. Instead, a C-style string is represented as an array of characters, which terminates with a null character `'\\0'` to indicate the end of the string."
   ]
  },
  {
   "cell_type": "code",
   "execution_count": 3,
   "id": "145116c8",
   "metadata": {},
   "outputs": [
    {
     "name": "stdout",
     "output_type": "stream",
     "text": [
      "helloworld\n",
      "string entered: helloworld\n",
      "string altered: hello\n"
     ]
    }
   ],
   "source": [
    "#include <stdio.h>\n",
    "\n",
    "void cut_c_string(char c_str[], int pos) {\n",
    "    c_str[pos] = '\\0';\n",
    "}\n",
    "\n",
    "int main() {\n",
    "    unsigned MAX_STRING_LENGTH = 256;\n",
    "    // If an array is not initialized at declaration, its length must be specified.\n",
    "    char str[MAX_STRING_LENGTH]; // a char array named \"str\"\n",
    "    \n",
    "    scanf(\"%s\", str); // no '&' before the variable \"str\",\n",
    "    printf(\"string entered: %s\\n\", str);\n",
    "    \n",
    "    cut_c_string(str, 5); // end the string at position 5\n",
    "    printf(\"string altered: %s\\n\", str);\n",
    "    return 0;\n",
    "}"
   ]
  },
  {
   "cell_type": "markdown",
   "id": "ef751248",
   "metadata": {},
   "source": [
    "### [Common functions](https://cplusplus.com/reference/cstring/)\n",
    "- **strcpy** : Copy string\n",
    "- **strlen** : Get string length\n",
    "- **strcmp** : Compare two strings"
   ]
  },
  {
   "cell_type": "code",
   "execution_count": 4,
   "id": "0bd6c461",
   "metadata": {},
   "outputs": [
    {
     "name": "stdout",
     "output_type": "stream",
     "text": [
      "Hello world!\n",
      "length: 12\n",
      "str1 equals str2\n"
     ]
    }
   ],
   "source": [
    "#include <stdio.h>\n",
    "#include <string.h> // library for string operations\n",
    "\n",
    "int main() {\n",
    "    char str1[] = \"Hello world!\";\n",
    "    char str2[40];\n",
    "    strcpy(str2, str1); // strcpy: copy string str1 to str2\n",
    "    printf(\"%s\\n\", str2);\n",
    "    \n",
    "    printf(\"length: %d\\n\", strlen(str1)); // strlen\n",
    "    \n",
    "    int ret = strcmp(str1, str2); // strcmp\n",
    "    if (ret == 0) // return 0 if the two string are equal\n",
    "        printf(\"str1 equals str2\\n\");\n",
    "    else\n",
    "        printf(\"unequal\\n\");\n",
    "    return 0;\n",
    "}"
   ]
  },
  {
   "cell_type": "markdown",
   "id": "62c54c63",
   "metadata": {},
   "source": [
    "## Lab assignment hints\n",
    "### 38.2 LAB: Convert to binary - functions\n",
    "- Create the string by assigning characters iteratively\n",
    "  - Remember to terminate the string with `'\\0'`\n",
    "- Use `strlen` to get the length of a string"
   ]
  },
  {
   "cell_type": "code",
   "execution_count": null,
   "id": "2ac87dfe",
   "metadata": {},
   "outputs": [],
   "source": []
  }
 ],
 "metadata": {
  "kernelspec": {
   "display_name": "C",
   "language": "c",
   "name": "c"
  },
  "language_info": {
   "file_extension": ".c",
   "mimetype": "text/x-csrc",
   "name": "text/x-csrc"
  }
 },
 "nbformat": 4,
 "nbformat_minor": 5
}
