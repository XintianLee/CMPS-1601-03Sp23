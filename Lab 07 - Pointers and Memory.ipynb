{
 "cells": [
  {
   "cell_type": "markdown",
   "id": "67a7639a",
   "metadata": {},
   "source": [
    "# [Lab 07 - Pointers and Memory](https://tulane.instructure.com/courses/2258105/assignments/14270909)\n",
    "\n",
    "- [Struct](#Struct)\n",
    "- [Pointer](#Pointer)\n",
    "- [Dynamic Memory Allocation](#Dynamic-Memory-Allocation)\n",
    "- [Lab assignment hints](#Lab-assignment-hints)"
   ]
  },
  {
   "cell_type": "markdown",
   "id": "f9f8b295",
   "metadata": {},
   "source": [
    "## Struct\n",
    "- 3 ways to define and instantiate a __*struct*__\n",
    "```c\n",
    "// 1. typtedef\n",
    "typedef struct StructTypeName_struct {\n",
    "   type item1;\n",
    "   type item2;\n",
    "   ...\n",
    "   type itemN;      \n",
    "} StructTypeName;\n",
    "\n",
    "StructTypeName myVar; // define a variable\n",
    "\n",
    "// 2.\n",
    "struct StructTypeName {\n",
    "   type item1;\n",
    "   type item2;\n",
    "   ...\n",
    "   type itemN;      \n",
    "};\n",
    "// in this case, keyword 'struct' is required when defining a variable\n",
    "struct StructTypeName myVar;\n",
    "\n",
    "// 3. anonymous struct\n",
    "struct {\n",
    "   type item1;\n",
    "   type item2;\n",
    "   ...\n",
    "   type itemN;      \n",
    "} myVar;\n",
    "```\n",
    "- use `.` operator to access member variables (e.g., `myVar.item1`)"
   ]
  },
  {
   "cell_type": "code",
   "execution_count": 1,
   "id": "3a328c67",
   "metadata": {},
   "outputs": [
    {
     "name": "stdout",
     "output_type": "stream",
     "text": [
      "1, 2.0\n",
      "ab\n"
     ]
    }
   ],
   "source": [
    "#include<stdio.h>\n",
    "\n",
    "struct A { // (2)\n",
    "    int x;\n",
    "    float y;\n",
    "};\n",
    "\n",
    "struct { // (3)\n",
    "    char z;\n",
    "} b1, b2;\n",
    "\n",
    "struct A foo() { // a function which returns a struct A\n",
    "    struct A a;\n",
    "    a.x = 1;\n",
    "    a.y = 2.0;\n",
    "    return a;\n",
    "}\n",
    "\n",
    "int main() {\n",
    "    struct A a = foo();\n",
    "    printf(\"%d, %.1f\\n\", a.x, a.y);\n",
    "    \n",
    "    b1.z = 'a';\n",
    "    b2.z = 'b';\n",
    "    printf(\"%c%c\\n\", b1.z, b2.z);\n",
    "    \n",
    "    return 0;\n",
    "}"
   ]
  },
  {
   "cell_type": "markdown",
   "id": "36643f97",
   "metadata": {},
   "source": [
    "## Pointer\n",
    "**Pointer**: A variable that holds a memory address.\n",
    "- A 64-bit system can have a memory size of up to $2^{64}$ bytes theoretically, with each address represented by a 64-bit integer.\n",
    "- Precede a variable with __reference operator__ `&` to get the memory address of it. $^{(1)}$\n",
    "- Append `*` after a type to denote a pointer type. $^{(2)}$\n",
    "- Prefix a pointer with __dereference operator__ `*` to retrieve the value stored in the memory address pointed to by the pointer. $^{(3)}$"
   ]
  },
  {
   "cell_type": "code",
   "execution_count": 2,
   "id": "c7358b06",
   "metadata": {},
   "outputs": [
    {
     "name": "stdout",
     "output_type": "stream",
     "text": [
      "Variable 'var' of type int:\n",
      "The beginning address of 'var' in hex: 0x000000030567a0f8\n",
      "'var' occupies 4 bytes (32 bits) of memory.\n",
      "\n",
      "Pointer variable 'ptr' pointing to 'var':\n",
      "'ptr' occupies 8 bytes (64 bits) of memory.\n",
      "The value of the variable pointed to by 'ptr': 0x12345678\n"
     ]
    }
   ],
   "source": [
    "#include <stdio.h>\n",
    "\n",
    "int main() {\n",
    "    int var = 0x12345678;\n",
    "    \n",
    "    // \"unsigned long\" is a 64-bit integer type\n",
    "    unsigned long addr = (unsigned long) &var; // (1)\n",
    "    \n",
    "    printf(\"Variable 'var' of type int:\\n\");\n",
    "    printf(\"The beginning address of 'var' in hex: 0x%016lx\\n\", addr);\n",
    "    printf(\"'var' occupies %d bytes (%d bits) of memory.\\n\", sizeof var, 8 * sizeof(var));\n",
    "    \n",
    "    // init a pointer from an address value\n",
    "    int* ptr = (int*) addr; // (2)\n",
    "    \n",
    "    printf(\"\\nPointer variable 'ptr' pointing to 'var':\\n\");\n",
    "    printf(\"'ptr' occupies %d bytes (%d bits) of memory.\\n\", sizeof ptr, 8 * sizeof(ptr));\n",
    "    printf(\"The value of the variable pointed to by 'ptr': %#x\\n\", *ptr); // (3)\n",
    "    \n",
    "    return 0;\n",
    "}"
   ]
  },
  {
   "cell_type": "markdown",
   "id": "938c1b1c",
   "metadata": {},
   "source": [
    "- pass __by reference__: pass the address\n",
    "- pass __by value__: pass a copy of the variable"
   ]
  },
  {
   "cell_type": "code",
   "execution_count": 3,
   "id": "145116c8",
   "metadata": {},
   "outputs": [
    {
     "name": "stdout",
     "output_type": "stream",
     "text": [
      "2\n",
      "4\n"
     ]
    }
   ],
   "source": [
    "#include <stdio.h>\n",
    "\n",
    "void pass_by_value(int x) {\n",
    "    x = 4;\n",
    "}\n",
    "\n",
    "void pass_by_reference(int* p_x) {\n",
    "    *p_x = 4;\n",
    "}\n",
    "\n",
    "int main() {\n",
    "    int x = 2;\n",
    "    \n",
    "    pass_by_value(x);\n",
    "    printf(\"%d\\n\", x);\n",
    "    \n",
    "    pass_by_reference(&x);\n",
    "    printf(\"%d\\n\", x);\n",
    "    \n",
    "    return 0;\n",
    "}"
   ]
  },
  {
   "cell_type": "markdown",
   "id": "ef751248",
   "metadata": {
    "tags": []
   },
   "source": [
    "## Dynamic Memory Allocation\n",
    "- _void_* [__*malloc*__](https://cplusplus.com/reference/cstdlib/malloc/) (*size_t* size): **Allocate**s a block of *size* bytes of memory, returning a pointer to the beginning of the block.\n",
    "- _void_ [__*free*__](https://cplusplus.com/reference/cstdlib/free/) (_void_* ptr): **Release**s a block of memory pointed to by _ptr_.\n",
    "```c\n",
    "#include <stdlib.h> // standard library\n",
    "\n",
    "typedef struct A_struct {\n",
    "    int val;\n",
    "    struct A_struct *ptr;\n",
    "} A;\n",
    "\n",
    "int main() {\n",
    "    A* p_a = (A*) malloc(sizeof(A));\n",
    "    \n",
    "    // dynamically allocate memory for an array of type int of length 5\n",
    "    int* iarr = (int*) malloc(sizeof(int) * 5);\n",
    "    \n",
    "    // dynamically allocate memory for an array of struct A of length 5\n",
    "    A* arr = (A*) malloc(sizeof(A) * 5);\n",
    "    \n",
    "    // free the memory\n",
    "    free(p_a);\n",
    "    free(iarr);\n",
    "    free(arr);\n",
    "\n",
    "    return 0;\n",
    "}\n",
    "```"
   ]
  },
  {
   "cell_type": "markdown",
   "id": "62c54c63",
   "metadata": {},
   "source": [
    "## Lab assignment hints\n",
    "### 45.3 LAB: Number sequences - memory allocation\n",
    "**Concatenate**\n",
    "- Implementing without loops: use function [memcpy](https://cplusplus.com/reference/cstring/memcpy/) from `<string.h>`"
   ]
  },
  {
   "cell_type": "code",
   "execution_count": null,
   "id": "2ac87dfe",
   "metadata": {},
   "outputs": [],
   "source": []
  }
 ],
 "metadata": {
  "kernelspec": {
   "display_name": "C",
   "language": "c",
   "name": "c"
  },
  "language_info": {
   "file_extension": ".c",
   "mimetype": "text/x-csrc",
   "name": "text/x-csrc"
  }
 },
 "nbformat": 4,
 "nbformat_minor": 5
}
