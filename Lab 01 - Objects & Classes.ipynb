{
 "cells": [
  {
   "cell_type": "markdown",
   "metadata": {},
   "source": [
    "# [Lab 01 - Objects & Classes](https://tulane.instructure.com/courses/2258105/assignments/14270903)\n",
    "- [Variable, Input and Output](#Variable,-Input-and-Output)\n",
    "- [Control Statements and Arrays](#Control-Statements-and-Arrays)\n",
    "- [Method](#Method)\n",
    "- [Class](#Class)"
   ]
  },
  {
   "cell_type": "markdown",
   "metadata": {},
   "source": [
    "## Variable, Input and Output"
   ]
  },
  {
   "cell_type": "code",
   "execution_count": 1,
   "metadata": {},
   "outputs": [],
   "source": [
    "import java.util.Scanner;"
   ]
  },
  {
   "cell_type": "markdown",
   "metadata": {},
   "source": [
    "### Variable\n",
    "Declare a variable (**strong typing**)\n",
    "```java\n",
    "DataType varName[ = expression];\n",
    "```"
   ]
  },
  {
   "cell_type": "code",
   "execution_count": 2,
   "metadata": {},
   "outputs": [],
   "source": [
    "int a;\n",
    "boolean c = true;\n",
    "double d = 1.0 / 3.0;\n",
    "String s = \"d\";"
   ]
  },
  {
   "cell_type": "markdown",
   "metadata": {},
   "source": [
    "### Input\n",
    "Standard input stream: `System.in`"
   ]
  },
  {
   "cell_type": "code",
   "execution_count": 3,
   "metadata": {},
   "outputs": [
    {
     "name": "stdout",
     "output_type": "stream",
     "text": [
      "4\n"
     ]
    }
   ],
   "source": [
    "// Wrap System.in with a Scanner\n",
    "Scanner scnr = new Scanner(System.in);\n",
    "\n",
    "a = scnr.nextInt()"
   ]
  },
  {
   "cell_type": "markdown",
   "metadata": {},
   "source": [
    "### Output\n",
    "Standard output stream: `System.out`\n",
    "- Print: `print` & `println`"
   ]
  },
  {
   "cell_type": "code",
   "execution_count": 4,
   "metadata": {},
   "outputs": [
    {
     "name": "stdout",
     "output_type": "stream",
     "text": [
      "4 * 2 = 8\n"
     ]
    }
   ],
   "source": [
    "// Print to System.out\n",
    "System.out.print(\n",
    "    // concatenate string and variable with +\n",
    "    a + \" * \" + 2 + \" = \"\n",
    ");\n",
    "\n",
    "// Print and then terminate the line.\n",
    "System.out.println(a * 2);"
   ]
  },
  {
   "cell_type": "markdown",
   "metadata": {},
   "source": [
    "- Print a formatted string: `printf`"
   ]
  },
  {
   "cell_type": "code",
   "execution_count": 5,
   "metadata": {},
   "outputs": [
    {
     "name": "stdout",
     "output_type": "stream",
     "text": [
      "The value of d is 0.333 \n"
     ]
    },
    {
     "data": {
      "text/plain": [
       "java.io.PrintStream@3f9477a2"
      ]
     },
     "execution_count": 5,
     "metadata": {},
     "output_type": "execute_result"
    }
   ],
   "source": [
    "String formatStr = \"The value of %s is %.3f \\n\";\n",
    "System.out.printf(formatStr, s, d);"
   ]
  },
  {
   "cell_type": "markdown",
   "metadata": {},
   "source": [
    "## Control Statements and Arrays\n",
    "### _if_ statement\n",
    "```java\n",
    "if (expression1) { /* statements */ }\n",
    "else if (expression2) { /* statements */ }\n",
    "/* ... */\n",
    "else { /* statements */ }\n",
    "```"
   ]
  },
  {
   "cell_type": "code",
   "execution_count": 6,
   "metadata": {},
   "outputs": [
    {
     "name": "stdout",
     "output_type": "stream",
     "text": [
      "2th branch\n"
     ]
    }
   ],
   "source": [
    "if (a < 3) {\n",
    "    // statements\n",
    "} else if (c) {\n",
    "    System.out.println(\"2th branch\");\n",
    "} else ;"
   ]
  },
  {
   "cell_type": "markdown",
   "metadata": {},
   "source": [
    "### _while_ loop\n",
    "```java\n",
    "while (conditionExpression) { /* Loop body */ }\n",
    "```"
   ]
  },
  {
   "cell_type": "code",
   "execution_count": 7,
   "metadata": {},
   "outputs": [
    {
     "name": "stdout",
     "output_type": "stream",
     "text": [
      "5 4 3 2 1 "
     ]
    }
   ],
   "source": [
    "int i = 5;\n",
    "\n",
    "while (i > 0) {\n",
    "    System.out.print(i + \" \");\n",
    "    i = i - 1;\n",
    "}"
   ]
  },
  {
   "cell_type": "markdown",
   "metadata": {},
   "source": [
    "### _for_ loop\n",
    "```java\n",
    "for (initialExpression; conditionExpression; updateExpression) { /* Loop body */ }\n",
    "```"
   ]
  },
  {
   "cell_type": "code",
   "execution_count": 8,
   "metadata": {},
   "outputs": [
    {
     "name": "stdout",
     "output_type": "stream",
     "text": [
      "5 4 3 2 1 "
     ]
    }
   ],
   "source": [
    "for (int i = 5; i > 0; i = i - 1)\n",
    "    System.out.print(i + \" \");"
   ]
  },
  {
   "cell_type": "markdown",
   "metadata": {},
   "source": [
    "### Arrays\n",
    "```java\n",
    "DataType[] arrayName = new DataType[numElements];\n",
    "```\n",
    "- Specify\n",
    "  - data type\n",
    "  - size of the array\n",
    "- Use `.length` to get the size"
   ]
  },
  {
   "cell_type": "code",
   "execution_count": 9,
   "metadata": {},
   "outputs": [
    {
     "name": "stdout",
     "output_type": "stream",
     "text": [
      "55\n"
     ]
    }
   ],
   "source": [
    "int[] arr = new int[10]; // declare an int array of length 10\n",
    "arr[0] = arr[1] = 1; // index starts from 0\n",
    "\n",
    "for (int i = 2; i < arr.length; ++i)\n",
    "    arr[i] = arr[i - 1] + arr[i - 2];\n",
    "\n",
    "// access last element of arr\n",
    "System.out.println(arr[arr.length - 1]);"
   ]
  },
  {
   "cell_type": "markdown",
   "metadata": {},
   "source": [
    "## Method\n",
    "- A named list of statements\n",
    "- Definition\n",
    "```java\n",
    "ReturnDataType methodName(Param1DataType param1Name, Param2DataType param2Name) {\n",
    "    ReturnDataType returnVar;\n",
    "    /* statements */\n",
    "    return returnVar;\n",
    "}\n",
    "```\n",
    "  - Specify type of the returned value (or __void__)\n",
    "- Call / Invoke\n",
    "```java\n",
    "ReturnDataType ret = methodName(argument1, argument2);\n",
    "```"
   ]
  },
  {
   "cell_type": "markdown",
   "metadata": {},
   "source": [
    "## Class\n",
    "- __Object__\n",
    "  - a grouping of __variable__s and __method__s\n",
    "  - an instance of some __class__\n",
    "- __Class__\n",
    "  - defines a _data type_ that can group variables and methods to form an __object__\n",
    "- Abstraction / Encapsulation\n",
    "  - provides high-level interfaces to the user\n",
    "  - hides low-level internal details from the user\n",
    "\n",
    "```java\n",
    "// class definition\n",
    "class A {\n",
    "    // member variables / fields\n",
    "    int memberVar;\n",
    "    // member methods\n",
    "    void memberMethod() { /* Do something. */ }\n",
    "}\n",
    "```\n",
    "\n",
    "- **Reference**\n",
    "  - a variable type that refers to an object\n",
    "  - __*new*__ operator allocates memory for an object\n",
    "```java\n",
    "// create an object of class A, and declare a variable obj referring to it\n",
    "A obj = new A();\n",
    "Scanner scnr = new Scanner(System.in);\n",
    "```\n",
    "  - access class members: `.`\n",
    "```java\n",
    "obj.memberMethod();\n",
    "scnr.nextInt();\n",
    "```\n",
    "\n",
    "- **Access modifier**s (for member fields or methods)\n",
    "  - __private__: only <ins>member methods</ins> can access\n",
    "  - __public__: both <ins>member methods</ins> and <ins>class user</ins> (object) can access\n",
    "  - __static__: <ins>globally</ins> accessible, associated with a class not an object"
   ]
  },
  {
   "cell_type": "markdown",
   "metadata": {},
   "source": [
    "### Special member methods\n",
    "- __Mutator__ (setter) & __Accessor__ (getter)\n",
    "  - change or get the value of a private field\n",
    "\n",
    "```java\n",
    "class A {\n",
    "    private String var;\n",
    "    public String getVar() { return name; }\n",
    "    public void setVar(String v) { var = v; }\n",
    "}\n",
    "```\n",
    "\n",
    "- __Constructor__\n",
    "  - initializes the member fields of an object\n",
    "  - has exact the same name as the class\n",
    "\n",
    "```java\n",
    "class A {\n",
    "    private String var;\n",
    "    \n",
    "    // default constructor: no parameter\n",
    "    public A() { var = 0; }\n",
    "    \n",
    "    // overloaded constructor\n",
    "    public A(String var) {\n",
    "        // use implicit parameter \"this\" to refer to\n",
    "        // the object itself inside its member methods\n",
    "        this.var = var;\n",
    "    }\n",
    "}\n",
    "```\n",
    "```java\n",
    "// invoke default constructor\n",
    "A obj = new A();\n",
    "\n",
    "// invoke overloaded constructor\n",
    "Scanner scnr = new Scanner(System.in);\n",
    "```"
   ]
  },
  {
   "cell_type": "code",
   "execution_count": null,
   "metadata": {},
   "outputs": [],
   "source": []
  }
 ],
 "metadata": {
  "kernelspec": {
   "display_name": "Java",
   "language": "java",
   "name": "java"
  },
  "language_info": {
   "codemirror_mode": "java",
   "file_extension": ".jshell",
   "mimetype": "text/x-java-source",
   "name": "Java",
   "pygments_lexer": "java",
   "version": "17.0.5+8"
  },
  "vscode": {
   "interpreter": {
    "hash": "2a4cf7dd2add461b09092786c41b3b19dc1058820a10c52919aff09563d92c13"
   }
  }
 },
 "nbformat": 4,
 "nbformat_minor": 2
}
