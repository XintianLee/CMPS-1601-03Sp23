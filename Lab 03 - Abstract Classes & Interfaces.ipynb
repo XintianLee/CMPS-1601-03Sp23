{
 "cells": [
  {
   "cell_type": "markdown",
   "id": "cf7990c1",
   "metadata": {},
   "source": [
    "# [Lab 03 - Abstract Classes & Interfaces](https://tulane.instructure.com/courses/2258105/assignments/14270905)\n",
    "- [Abstract Class](#Abstract-Class)\n",
    "- [Unified Modeling Language (UML)](#Unified-Modeling-Language-(UML))\n",
    "- [Interface](#Interface)\n",
    "- [ArrayList](#ArrayList)\n",
    "- [Lab assignment hints](#Lab-assignment-hints)"
   ]
  },
  {
   "cell_type": "markdown",
   "id": "70aac939",
   "metadata": {},
   "source": [
    "## Abstract Class\n",
    "**Abstract class**\n",
    "- serves as a base class (superclass) to *guide* the design of subclasses (1)\n",
    "- cannot itself be *instantiated* as an object (2)\n",
    "  - can still have constructors which can be called via ***super*** in subclasses (2.1)\n",
    "- contains **abstract method**(s) other than usual member fields and methods (3)\n",
    "\n",
    "**Abstract method**\n",
    "- in the (abstract) base class (4)\n",
    "  - not implemented\n",
    "  - declared as a **method signature** which defines the method's name and parameters\n",
    "- in the subclass (5)\n",
    "  - must be implemented"
   ]
  },
  {
   "cell_type": "code",
   "execution_count": 1,
   "id": "784c6509",
   "metadata": {},
   "outputs": [],
   "source": [
    "// (1) define an abstract class\n",
    "abstract class AbstractBaseClass {\n",
    "    // member field(s)\n",
    "    private String var1;\n",
    "    \n",
    "    // member method(s)\n",
    "    public AbstractBaseClass(String var1) { // (2.1) constructor\n",
    "        this.var1 = var1;\n",
    "    }\n",
    "    public String getVar1() { return var1; }\n",
    "    \n",
    "    // (3) abstract method(s)\n",
    "    public abstract int abstractMethod(int param1); // (4)\n",
    "}"
   ]
  },
  {
   "cell_type": "code",
   "execution_count": 2,
   "id": "8e433c56",
   "metadata": {},
   "outputs": [
    {
     "ename": "CompilationException",
     "evalue": "",
     "output_type": "error",
     "traceback": [
      "\u001b[1m\u001b[30m|   \u001b[1m\u001b[30mAbstractBaseClass objAbstr = \u001b[0m\u001b[1m\u001b[30m\u001b[41mnew AbstractBaseClass(\"Abstract\")\u001b[0m\u001b[1m\u001b[30m;\u001b[0m",
      "\u001b[1m\u001b[31mAbstractBaseClass is abstract; cannot be instantiated\u001b[0m",
      ""
     ]
    }
   ],
   "source": [
    "// (2)\n",
    "AbstractBaseClass objAbstr = new AbstractBaseClass(\"Abstract\");"
   ]
  },
  {
   "cell_type": "code",
   "execution_count": 3,
   "id": "4eb670f1",
   "metadata": {},
   "outputs": [],
   "source": [
    "// inherits an abstract class\n",
    "class SubClass extends AbstractBaseClass {\n",
    "    // member field(s)\n",
    "    private int var2;\n",
    "    \n",
    "    // constructor(s)\n",
    "    public SubClass(String var1, int var2) {\n",
    "        super(var1); // (2.1)\n",
    "        this.var2 = var2;\n",
    "    }\n",
    "    \n",
    "    // (5) implementation of abstract method(s)\n",
    "    @Override\n",
    "    public int abstractMethod(int param1) {\n",
    "        return param1 * var2;\n",
    "    }\n",
    "}"
   ]
  },
  {
   "cell_type": "code",
   "execution_count": 4,
   "id": "1031a646",
   "metadata": {},
   "outputs": [
    {
     "name": "stdout",
     "output_type": "stream",
     "text": [
      "Concrete\n",
      "21\n"
     ]
    }
   ],
   "source": [
    "// (*) concrete class: not abstract\n",
    "SubClass obj = new SubClass(\"Concrete\", 3); // call SubClass constructor\n",
    "\n",
    "System.out.println(obj.getVar1()); // getVar1: defined in AbstractBaseClass\n",
    "\n",
    "System.out.println(obj.abstractMethod(7)); // abstractMethod: implemented in Subclass"
   ]
  },
  {
   "cell_type": "markdown",
   "id": "f7c5df53",
   "metadata": {},
   "source": [
    "## Unified Modeling Language (UML)\n",
    "<table  style=\"border:solid\">\n",
    "  <tr>\n",
    "    <th style=\"border:solid;text-align:center\"><i style=\"background-color:MediumSeaGreen\">Shape</i></th>\n",
    "  </tr>\n",
    "  <tr>\n",
    "    <td style=\"text-align:left\"><span style=\"background-color:LightGray\">-</span> <span style=\"background-color:LemonChiffon\">type</span>: <span style=\"background-color:LightSkyBlue\">String</span></td>\n",
    "  </tr>\n",
    "  <tr>\n",
    "      <td style=\"text-align:left\"><span style=\"background-color:LightGray\">+</span> <i><span style=\"background-color:LightSalmon\">computeArea()</span>: <span style=\"background-color:MediumPurple\">double</span></i></td>\n",
    "  </tr>\n",
    "</table>\n",
    "\n",
    "<table  style=\"border:solid\">\n",
    "  <tr>\n",
    "    <th style=\"border:solid;text-align:center\"><span style=\"background-color:MediumSeaGreen\">Circle</span></th>\n",
    "  </tr>\n",
    "  <tr>\n",
    "    <td style=\"text-align:left\"><span style=\"background-color:LightGray\">-</span> <span style=\"background-color:LemonChiffon\">radius</span>: <span style=\"background-color:LightSkyBlue\">double</span></td>\n",
    "  </tr>\n",
    "  <tr>\n",
    "    <td style=\"text-align:left\"><span style=\"background-color:LightGray\">-</span> <span style=\"background-color:LemonChiffon\">center</span>: <span style=\"background-color:LightSkyBlue\">Point</span></td>\n",
    "  </tr>\n",
    "  <tr>\n",
    "    <td style=\"text-align:left\"><span style=\"background-color:LightGray\">+</span> <span style=\"background-color:LightSalmon\">computeArea()</span>: <span style=\"background-color:MediumPurple\">double</span></td>\n",
    "  </tr>\n",
    "</table>\n",
    "\n",
    "- <span style=\"color:MediumSeaGreen\">&#9724;</span> Class name (*italic* if abstract)\n",
    "- <span style=\"color:LemonChiffon\">&#9724;</span> Member variable name\n",
    "- <span style=\"color:LightSkyBlue\">&#9724;</span> Member variable type\n",
    "- <span style=\"color:LightSalmon\">&#9724;</span> Method name (*italic* if abstract)\n",
    "- <span style=\"color:MediumPurple\">&#9724;</span> Method return type\n",
    "- <span style=\"color:LightGray\">&#9724;</span> Access: `-` private, `+` public\n",
    "- A <span style=\"font-size:25px\">&roarr;</span> B: A inherits from B."
   ]
  },
  {
   "cell_type": "markdown",
   "id": "13459ac1",
   "metadata": {},
   "source": [
    "## Interface\n",
    "**Interface**\n",
    "- specifies a set of abstract methods (1)\n",
    "  - method signatures without keywork *abstract* (2)\n",
    "- member fields (if any) must be *static* and *final* (3)\n",
    "\n",
    "**Implementing class**\n",
    "- must override and define all abstract methods specified by the interface (4)\n",
    "- can **implement** multiple interfaces (5)\n",
    "  - while a subclass can inherit at most one superclass"
   ]
  },
  {
   "cell_type": "code",
   "execution_count": 5,
   "id": "8329df94",
   "metadata": {},
   "outputs": [],
   "source": [
    "interface InterfaceA {\n",
    "    // (1) member method(s)\n",
    "    public void abstractMethod1(); // (2)\n",
    "    public void abstractMethod2(String param1);\n",
    "}\n",
    "\n",
    "interface InterfaceB {\n",
    "    // (3) member field(s)\n",
    "    public static final int CONSTANT = 17;\n",
    "    \n",
    "    // (1) member method(s)\n",
    "    public void abstractMethod3(int param1);\n",
    "}\n",
    "\n",
    "// (5) implements 2 interfaces\n",
    "class ImplementingClass implements InterfaceA, InterfaceB {\n",
    "    // (4)\n",
    "    @Override\n",
    "    public void abstractMethod1() { /* Implementation */ }\n",
    "    @Override\n",
    "    public void abstractMethod2(String param1) { /* Implementation */ }\n",
    "    @Override\n",
    "    public void abstractMethod3(int param1) { /* Implementation */ }\n",
    "}"
   ]
  },
  {
   "cell_type": "markdown",
   "id": "94cf71ac",
   "metadata": {},
   "source": [
    "## [ArrayList](https://docs.oracle.com/en/java/javase/19/docs/api/java.base/java/util/ArrayList.html)\n",
    "- Create an empty `ArryaList` of type `Integer`"
   ]
  },
  {
   "cell_type": "code",
   "execution_count": 6,
   "id": "a3fdc231",
   "metadata": {},
   "outputs": [],
   "source": [
    "ArrayList<Integer> integers = new ArrayList<>();"
   ]
  },
  {
   "cell_type": "markdown",
   "id": "c6df5718",
   "metadata": {},
   "source": [
    "- `add`: Appends a specified element to the end of the list."
   ]
  },
  {
   "cell_type": "code",
   "execution_count": 7,
   "id": "4abc3eec",
   "metadata": {},
   "outputs": [],
   "source": [
    "for (int i = 0; i < 5; i++)\n",
    "    integers.add(i + 1);"
   ]
  },
  {
   "cell_type": "markdown",
   "id": "2c521d91",
   "metadata": {},
   "source": [
    "- `size`: Returns the number of elements in the list.\n",
    "- `get`: Returns the element at the specified position."
   ]
  },
  {
   "cell_type": "code",
   "execution_count": 8,
   "id": "eae35439",
   "metadata": {},
   "outputs": [
    {
     "name": "stdout",
     "output_type": "stream",
     "text": [
      "1 2 3 4 5 "
     ]
    }
   ],
   "source": [
    "for (int i = 0; i < integers.size(); i++)\n",
    "    System.out.print(integers.get(i) + \" \");"
   ]
  },
  {
   "cell_type": "markdown",
   "id": "9fe01d0b",
   "metadata": {},
   "source": [
    "- traverse"
   ]
  },
  {
   "cell_type": "code",
   "execution_count": 9,
   "id": "070eeee6",
   "metadata": {},
   "outputs": [
    {
     "name": "stdout",
     "output_type": "stream",
     "text": [
      "1 2 3 4 5 "
     ]
    }
   ],
   "source": [
    "for (Integer num: integers)\n",
    "    System.out.print(num + \" \");"
   ]
  },
  {
   "cell_type": "markdown",
   "id": "68193109",
   "metadata": {},
   "source": [
    "## Lab assignment hints\n",
    "### 9.1 LAB: Shapes Hierarchy\n",
    "- All member variables should be declared **private**.\n",
    "  - Use **super** to call constructors which initialize them or update *static* ones if needed.\n",
    "\n",
    "### 9.2 LAB: Artisans\n",
    "- All member variables should be declared **private**. Choose data type carefully.\n",
    "\n",
    "`Baker`\n",
    "- `buyMaterials`\n",
    "  - Even when the Baker runs out of money to buy more butter, they can still continually buy flour.\n",
    "  - Not necessary to use a loop here.\n",
    "- `bakeBread`/`bakeCake`\n",
    "  - For easier override of the method `makeGoods`, write <del>`void bakeBread()`/`void bakeCake()`</del> <ins>`boolean bakeBread()`/`boolean bakeCake()`</ins> instead.\n",
    "    - If ingredients are insufficient, return `false`; otherwise bake a cake/bread and return `true`."
   ]
  },
  {
   "cell_type": "code",
   "execution_count": null,
   "id": "bde0012c",
   "metadata": {},
   "outputs": [],
   "source": []
  }
 ],
 "metadata": {
  "kernelspec": {
   "display_name": "Java",
   "language": "java",
   "name": "java"
  },
  "language_info": {
   "codemirror_mode": "java",
   "file_extension": ".jshell",
   "mimetype": "text/x-java-source",
   "name": "Java",
   "pygments_lexer": "java",
   "version": "17.0.5+8"
  }
 },
 "nbformat": 4,
 "nbformat_minor": 5
}
