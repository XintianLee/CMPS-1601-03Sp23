{
 "cells": [
  {
   "cell_type": "markdown",
   "id": "cf7990c1",
   "metadata": {},
   "source": [
    "# [Lab 04 - Generics](https://tulane.instructure.com/courses/2258105/assignments/14270906)\n",
    "\n",
    "- [Polymorphism and Generics](#Polymorphism-and-Generics)\n",
    "  - [Polymorphism](Polymorphism)\n",
    "  - [Generic method / class](#Generic-method-/-class)\n",
    "- [ArrayList](#ArrayList)\n",
    "  - [Sorting](#Sorting)\n",
    "- [Lab assignment hints](#Lab-assignment-hints)"
   ]
  },
  {
   "cell_type": "markdown",
   "id": "70a08351",
   "metadata": {},
   "source": [
    "## Polymorphism and Generics\n",
    "### Polymorphism\n",
    "- able to determine program behavior depending on data types (1)\n",
    "- derived/base class reference conversion: runtime polymorphism"
   ]
  },
  {
   "cell_type": "code",
   "execution_count": 1,
   "id": "613d07dd",
   "metadata": {},
   "outputs": [],
   "source": [
    "class Base {\n",
    "    public void print() {\n",
    "        System.out.println(\"This is Base class.\");\n",
    "    }\n",
    "}\n",
    "\n",
    "class Derived extends Base { // define a subclass of class Base\n",
    "    @Override\n",
    "    public void print() { // override the method in class Base\n",
    "        System.out.println(\"This is Derived class.\");\n",
    "    }\n",
    "    \n",
    "    public void print2() { // Derived's own member method\n",
    "        System.out.println(\"This is Derived's print2.\");\n",
    "    }\n",
    "}"
   ]
  },
  {
   "cell_type": "code",
   "execution_count": 2,
   "id": "dea9a88f",
   "metadata": {},
   "outputs": [],
   "source": [
    "// declare a Base type variable and initialize it with an instance of Derived type\n",
    "Base var = new Derived();"
   ]
  },
  {
   "cell_type": "code",
   "execution_count": 3,
   "id": "1f9321ac",
   "metadata": {},
   "outputs": [
    {
     "name": "stdout",
     "output_type": "stream",
     "text": [
      "This is Derived class.\n"
     ]
    }
   ],
   "source": [
    "var.print(); // (1) excute based on underlying data type Derived"
   ]
  },
  {
   "cell_type": "code",
   "execution_count": 4,
   "id": "9d09f24d",
   "metadata": {},
   "outputs": [
    {
     "ename": "CompilationException",
     "evalue": "",
     "output_type": "error",
     "traceback": [
      "\u001b[1m\u001b[30m|   \u001b[1m\u001b[30m\u001b[0m\u001b[1m\u001b[30m\u001b[41mvar.print2\u001b[0m\u001b[1m\u001b[30m(); // print2 is not a member of Base\u001b[0m",
      "\u001b[1m\u001b[31mcannot find symbol\u001b[0m",
      "\u001b[1m\u001b[31m  symbol:   method print2()\u001b[0m",
      ""
     ]
    }
   ],
   "source": [
    "var.print2(); // print2 is not a member of Base"
   ]
  },
  {
   "cell_type": "markdown",
   "id": "d00cfb26",
   "metadata": {},
   "source": [
    "### Generic method / class\n",
    "- having special type parameters indicating generic data types\n",
    "- generic method\n",
    "```java\n",
    "modifiers <Type1 extends BoundType1, Type2 extends BoundType2> \n",
    "ReturnType methodName(parameters) { \n",
    "   ... \n",
    "}\n",
    "```\n",
    "- generic class\n",
    "```java\n",
    "modifiers class ClassName <Type1 extends BoundType1, Type2 extends BoundType2> {\n",
    "    ...\n",
    "}\n",
    "```\n",
    "\n",
    "#### Generic method example"
   ]
  },
  {
   "cell_type": "code",
   "execution_count": 5,
   "id": "4e616042",
   "metadata": {},
   "outputs": [],
   "source": [
    "public static <T extends Comparable<T>> T min(T a, T b) {\n",
    "    return a.compareTo(b) <= 0 ? a : b; // If a <= b, return a; otherwise return b.\n",
    "}"
   ]
  },
  {
   "cell_type": "markdown",
   "id": "1267efdb",
   "metadata": {},
   "source": [
    "- **type parameter(s)**: `T`\n",
    "- **type bound** (optional): `Comparable<T>` (means type `T` must have implemented interface `Comparable<T>`)\n",
    "- return type: `T`\n",
    "- method name: `min`\n",
    "- parameters: `T a`, `T b`"
   ]
  },
  {
   "cell_type": "code",
   "execution_count": 6,
   "id": "01f54b59",
   "metadata": {},
   "outputs": [
    {
     "name": "stdout",
     "output_type": "stream",
     "text": [
      "4\n",
      "five\n"
     ]
    }
   ],
   "source": [
    "System.out.println(min(4, 5)); // Integer as T\n",
    "System.out.println(min(\"four\", \"five\")); // String as T"
   ]
  },
  {
   "cell_type": "markdown",
   "id": "6b9e4579",
   "metadata": {},
   "source": [
    "#### Generic class example"
   ]
  },
  {
   "cell_type": "code",
   "execution_count": 7,
   "id": "eab45426",
   "metadata": {},
   "outputs": [],
   "source": [
    "public class Pair <T1, T2> {\n",
    "    private T1 first;\n",
    "    private T2 second;\n",
    "    \n",
    "    public Pair(T1 first, T2 second) {\n",
    "        this.first = first;\n",
    "        this.second = second;\n",
    "    }\n",
    "    \n",
    "    @Override\n",
    "    public String toString() {\n",
    "        return String.format(\"(%s, %s)\", first, second);\n",
    "    }\n",
    "}"
   ]
  },
  {
   "cell_type": "code",
   "execution_count": 8,
   "id": "3c5477bb",
   "metadata": {},
   "outputs": [
    {
     "name": "stdout",
     "output_type": "stream",
     "text": [
      "(4, four)\n"
     ]
    }
   ],
   "source": [
    "System.out.println(new Pair(4, \"four\"));"
   ]
  },
  {
   "cell_type": "markdown",
   "id": "acecea2e",
   "metadata": {},
   "source": [
    "## ArrayList\n",
    "```java\n",
    "import java.util.ArrayList; // Java built-in generic class\n",
    "```\n",
    "- an ordered list of reference type items\n",
    "- [common methods and usage](https://nbviewer.org/github/XintianLee/CMPS-1601-03Sp23/blob/main/Lab%2003%20-%20Abstract%20Classes%20%26%20Interfaces.ipynb#ArrayList)"
   ]
  },
  {
   "cell_type": "code",
   "execution_count": 9,
   "id": "ca8ad1a5",
   "metadata": {},
   "outputs": [
    {
     "name": "stdout",
     "output_type": "stream",
     "text": [
      "This is Base class.\n",
      "This is Derived class.\n"
     ]
    }
   ],
   "source": [
    "ArrayList<Base> list = new ArrayList();\n",
    "list.add(new Base()); // a Base class object\n",
    "list.add(new Derived()); // a Derived class object\n",
    "\n",
    "for (Base elem: list)\n",
    "    elem.print(); // runtime polymorphism"
   ]
  },
  {
   "cell_type": "markdown",
   "id": "4f9c11e1",
   "metadata": {},
   "source": [
    "### Sorting"
   ]
  },
  {
   "cell_type": "code",
   "execution_count": 10,
   "id": "3f50b6fb",
   "metadata": {},
   "outputs": [],
   "source": [
    "import java.util.List; // the interface implemented by ArrayList\n",
    "import java.util.Collections;"
   ]
  },
  {
   "cell_type": "code",
   "execution_count": 11,
   "id": "f195293a",
   "metadata": {},
   "outputs": [
    {
     "name": "stdout",
     "output_type": "stream",
     "text": [
      "[16, 4, 9, 1, 25]\n"
     ]
    }
   ],
   "source": [
    "List<Integer> nums = new ArrayList(List.of(16, 4, 9, 1, 25));\n",
    "System.out.println(nums);"
   ]
  },
  {
   "cell_type": "code",
   "execution_count": 12,
   "id": "8256c4b3",
   "metadata": {},
   "outputs": [
    {
     "name": "stdout",
     "output_type": "stream",
     "text": [
      "[1, 4, 9, 16, 25]\n"
     ]
    }
   ],
   "source": [
    "Collections.sort(nums); // sort in natrual order (depending on the implementation of compareTo)\n",
    "System.out.println(nums);"
   ]
  },
  {
   "cell_type": "code",
   "execution_count": 13,
   "id": "76a29d7e",
   "metadata": {},
   "outputs": [
    {
     "name": "stdout",
     "output_type": "stream",
     "text": [
      "[1, 4, 9, 16, 25]\n"
     ]
    }
   ],
   "source": [
    "nums.sort(null); // equivalent to the way above\n",
    "System.out.println(nums);"
   ]
  },
  {
   "cell_type": "markdown",
   "id": "2edeae34",
   "metadata": {},
   "source": [
    "#### Customize the order\n",
    "- user-defined class type: implementing interface **Comparator**, or <ins>overriding method [*compareTo*](https://docs.oracle.com/en/java/javase/19/docs/api/java.base/java/lang/Comparable.html#compareTo(T))</ins> of *Comparable*\n",
    "- built-in data type: implementing interface [**Comparator**](https://docs.oracle.com/en/java/javase/19/docs/api/java.base/java/util/Comparator.html)"
   ]
  },
  {
   "cell_type": "code",
   "execution_count": 14,
   "id": "e85939a5",
   "metadata": {},
   "outputs": [],
   "source": [
    "import java.util.Comparator"
   ]
  },
  {
   "cell_type": "markdown",
   "id": "3f6bb389",
   "metadata": {},
   "source": [
    "- Use an **anonymous inner class** to implement the interface:"
   ]
  },
  {
   "cell_type": "code",
   "execution_count": 15,
   "id": "73a3c779",
   "metadata": {},
   "outputs": [
    {
     "name": "stdout",
     "output_type": "stream",
     "text": [
      "[25, 16, 9, 4, 1]\n"
     ]
    }
   ],
   "source": [
    "Comparator comparator = new Comparator<Integer>() {\n",
    "    @Override\n",
    "    public int compare(Integer a, Integer b) { // reverse order\n",
    "        return b - a;\n",
    "    }\n",
    "};\n",
    "\n",
    "Collections.sort(nums, comparator);\n",
    "System.out.println(nums);"
   ]
  },
  {
   "cell_type": "markdown",
   "id": "9dee6c19",
   "metadata": {},
   "source": [
    "- Use a **lambda expression** (even simpler)"
   ]
  },
  {
   "cell_type": "code",
   "execution_count": 16,
   "id": "aa7e16f8",
   "metadata": {},
   "outputs": [
    {
     "name": "stdout",
     "output_type": "stream",
     "text": [
      "[25, 16, 9, 4, 1]\n",
      "[9, 4, 1, 16, 25]\n"
     ]
    }
   ],
   "source": [
    "nums.sort((a, b) -> - a.compareTo(b)); // in descending order\n",
    "System.out.println(nums);\n",
    "\n",
    "nums.sort((a, b) -> Math.abs(a - 7) - Math.abs(b - 7)); // distance to 7\n",
    "System.out.println(nums);"
   ]
  },
  {
   "cell_type": "markdown",
   "id": "68193109",
   "metadata": {},
   "source": [
    "## Lab assignment hints\n"
   ]
  },
  {
   "cell_type": "code",
   "execution_count": null,
   "id": "d3b584e3",
   "metadata": {},
   "outputs": [],
   "source": []
  }
 ],
 "metadata": {
  "kernelspec": {
   "display_name": "Java",
   "language": "java",
   "name": "java"
  },
  "language_info": {
   "codemirror_mode": "java",
   "file_extension": ".jshell",
   "mimetype": "text/x-java-source",
   "name": "Java",
   "pygments_lexer": "java",
   "version": "17.0.5+8"
  }
 },
 "nbformat": 4,
 "nbformat_minor": 5
}
